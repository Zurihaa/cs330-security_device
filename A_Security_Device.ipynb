{
 "cells": [
  {
   "cell_type": "markdown",
   "id": "ce6a40b0",
   "metadata": {},
   "source": [
    "# CS 330, Discrete Structures: A Security Device"
   ]
  },
  {
   "cell_type": "code",
   "execution_count": 112,
   "id": "742d1d6e",
   "metadata": {},
   "outputs": [],
   "source": [
    "def lock_engine(s):\n",
    "    boo = True\n",
    "    unlock = '848981'\n",
    "    lock = '848984'\n",
    "    current_match = ''\n",
    "        # Read characters from s, one-by-one\n",
    "        # Match on the password that we are allowed to use\n",
    "        # Once we reach the decision point, check the last number\n",
    "        # Return something\n",
    "    for i in range(len(s) - 5):\n",
    "        if s[i]== unlock[0]:\n",
    "            current_match += s[i]\n",
    "            for k in range (i + 1, len(s)):\n",
    "                if len(current_match) < len(unlock):\n",
    "                    current_match += s[k]\n",
    "            if current_match == unlock:\n",
    "                boo = False\n",
    "            elif current_match == lock:\n",
    "                boo = True\n",
    "            \n",
    "        if i < len(s) - 5:\n",
    "            current_match = ''\n",
    "    \n",
    "    if boo == False:\n",
    "        return \"Unlocked\"\n",
    "    else:\n",
    "        return \"Locked\""
   ]
  },
  {
   "cell_type": "markdown",
   "id": "789ad9b4",
   "metadata": {},
   "source": [
    "The language of the finite automata is the set of characters that are allowed to be input to the automata. \n",
    "$$\n",
    "A = \\lbrace 0, 1, 2, 3, \\ldots, 8, 9 \\rbrace\n",
    "$$\n",
    "\n",
    "Denote the size of the set $A$ as $\\lvert A \\rvert$.\n",
    "$$\n",
    "\\lvert A \\rvert = 10\n",
    "$$"
   ]
  },
  {
   "cell_type": "markdown",
   "id": "4cd85b43",
   "metadata": {},
   "source": [
    "The regular expression that corresponds to this finite automata depends on the security code(s) that it recognizes.\n",
    "For my case, the sequence that must be seen by the automata to unlock ($U$) and lock ($L$) is:\n",
    "$$\n",
    "\\begin{align*}\n",
    "U &= 8,4,8,9,8,1 \\\\\n",
    "L &= 8,4,8,9,8,4 \\\\\n",
    "\\end{align*}\n",
    "$$"
   ]
  },
  {
   "cell_type": "markdown",
   "id": "d3195eb5",
   "metadata": {},
   "source": [
    "The regular expression is dependent on the unique lock and unlock code for each student (because each one is using the last 5 digits of their A-number, which are hopefully unique).\n",
    "For me, because we must recognize the common subphrase $8, 4, 8, 9, 8$, the regular expression must match those exactly.\n",
    "We have an option after that depending on if we lock or unlock.\n",
    "So, the regex is:\n",
    "$$\n",
    "R = \\mathtt{84898(1 \\vert 4)}\n",
    "$$\n",
    "Where $\\vert$ denotes an option within the two possible options $1$ and $4$.\n",
    "\n",
    "This means that \\textbf{either} $8,4,8,9,8,1$ or $8,4,8,9,8,4$ will be correctly recognized by the automata.\n",
    "But if anything other than those two possible sequences are entered, then the regular expression correctly fails to match anything."
   ]
  },
  {
   "cell_type": "markdown",
   "id": "c784c839",
   "metadata": {},
   "source": [
    "[Finite Automata State Transition Diagram](./FA_Diagram.pdf)\n",
    "![Finite Automata State Transition Diagram](./FA_Diagram.png)"
   ]
  },
  }
 ],
 "metadata": {
  "kernelspec": {
   "display_name": "Python 3 (ipykernel)",
   "language": "python",
   "name": "python3"
  },
  "language_info": {
   "codemirror_mode": {
    "name": "ipython",
    "version": 3
   },
   "file_extension": ".py",
   "mimetype": "text/x-python",
   "name": "python",
   "nbconvert_exporter": "python",
   "pygments_lexer": "ipython3",
   "version": "3.10.6"
  }
 },
 "nbformat": 4,
 "nbformat_minor": 5
}
