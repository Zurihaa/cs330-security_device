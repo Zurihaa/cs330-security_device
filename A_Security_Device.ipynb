{
 "cells": [
  {
   "cell_type": "markdown",
   "id": "ce6a40b0",
   "metadata": {},
   "source": [
    "# CS 330, Discrete Structures: A Security Device"
   ]
  },
  {
   "cell_type": "code",
   "execution_count": 1,
   "id": "3c60ed7f",
   "metadata": {},
   "outputs": [],
   "source": [
    "def lock_engine(s):\n",
    "    boo = True\n",
    "    unlock = '848981'\n",
    "    lock = '848984'\n",
    "    current_match = ''\n",
    "    for i in range(len(s) - 5):\n",
    "        if s[i]== unlock[0]:\n",
    "            current_match += s[i]\n",
    "            for k in range (i + 1, len(s)):\n",
    "                if len(current_match) < len(unlock):\n",
    "                    current_match += s[k]\n",
    "            if current_match == unlock:\n",
    "                boo = False\n",
    "            elif current_match == lock:\n",
    "                boo = True\n",
    "            \n",
    "        if i < len(s) - 5:\n",
    "            current_match = ''\n",
    "    \n",
    "    if boo == False:\n",
    "        return \"Unlocked\"\n",
    "    else:\n",
    "        return \"Locked\""
   ]
  },
  {
   "cell_type": "markdown",
   "id": "789ad9b4",
   "metadata": {},
   "source": [
    "The language of the finite automata is the set of characters that are allowed to be input to the automata. \n",
    "$$\n",
    "A = \\lbrace 0, 1, 2, 3, \\ldots, 8, 9 \\rbrace\n",
    "$$\n",
    "\n",
    "Denote the size of the set $A$ as $\\lvert A \\rvert$.\n",
    "$$\n",
    "\\lvert A \\rvert = 10\n",
    "$$"
   ]
  },
  {
   "cell_type": "markdown",
   "id": "4cd85b43",
   "metadata": {},
   "source": [
    "The regular expression that corresponds to this finite automata depends on the security code(s) that it recognizes.\n",
    "For my case, the sequence that must be seen by the automata to unlock ($U$) and lock ($L$) is:\n",
    "$$\n",
    "\\begin{align*}\n",
    "U &= 8,4,8,9,8,1 \\\\\n",
    "L &= 8,4,8,9,8,4 \\\\\n",
    "\\end{align*}\n",
    "$$"
   ]
  },
  {
   "cell_type": "markdown",
   "id": "d3195eb5",
   "metadata": {},
   "source": [
    "The regular expression is dependent on the unique lock and unlock code for each student (because each one is using the last 5 digits of their A-number, which are hopefully unique).\n",
    "For me, because we must recognize the common subphrase $8, 4, 8, 9, 8$, the regular expression must match those exactly.\n",
    "We have an option after that depending on if we lock or unlock.\n",
    "So, the regex is:\n",
    "$$\n",
    "R = \\mathtt{84898(1 \\vert 4)}\n",
    "$$\n",
    "Where $\\vert$ denotes an option within the two possible options $1$ and $4$.\n",
    "\n",
    "This means that \\textbf{either} $8,4,8,9,8,1$ or $8,4,8,9,8,4$ will be correctly recognized by the automata.\n",
    "But if anything other than those two possible sequences are entered, then the regular expression correctly fails to match anything."
   ]
  },
  {
   "cell_type": "markdown",
   "id": "2a177d04",
   "metadata": {},
   "source": [
    "[Finite Automata State Transition Diagram](./FA_Diagram.pdf)\n",
    "![Finite Automata State Transition Diagram](./FA_Diagram.png)"
   ]
  },
  {
   "cell_type": "markdown",
   "id": "0f9bd5d6",
   "metadata": {},
   "source": [
    "---"
   ]
  },
  {
   "cell_type": "code",
   "execution_count": 2,
   "id": "c24b7a3e",
   "metadata": {},
   "outputs": [],
   "source": [
    "from unittest import TestCase\n",
    "\n",
    "tc = TestCase()\n",
    "\n",
    "#Recall: Ending in 4 will lock the device. Ending in 1 will unlock.\n",
    "\n",
    "tc.assertEqual(lock_engine('848984'), 'Locked')\n",
    "\n",
    "tc.assertEqual(lock_engine('848981873873787878848984'), 'Locked')\n",
    "\n",
    "# TODO: You need a way to reset the engine back to an initial state\n",
    "tc.assertEqual(lock_engine('9878967826987876'), 'Locked')\n",
    "\n",
    "tc.assertEqual(lock_engine('848981'), 'Unlocked')\n",
    "\n",
    "tc.assertEqual(lock_engine('9878967826987876'), 'Locked')"
   ]
  },
  {
   "cell_type": "markdown",
   "id": "b20ae306",
   "metadata": {},
   "source": [
    "Let $X$ be the random variable representing the randomly generated number for this index in the input sequence.\n",
    "$$X \\sim U(0,9)$$\n",
    "Thus, the probability density function, PDF, of $X$ is $$p_{X}(x) = \\frac{1}{10}$$\n",
    "\n",
    "An valid input sequence (which may or may not be the correct sequence to lock/unlock the device) requires 6 digits, each of which is independent from the rest.\n",
    "So, the probability of generating any 6 digit number is:\n",
    "$$P[X_{6}] = {\\left( \\frac{1}{10} \\right)}^{6}$$"
   ]
  },
  {
   "cell_type": "markdown",
   "id": "654ea1b0",
   "metadata": {},
   "source": [
    "Denote the time required to complete $n$ attempts as $T(n)$."
   ]
  },
  {
   "cell_type": "markdown",
   "id": "b213d712",
   "metadata": {},
   "source": [
    "We start by looking at the best-case scenario, which is where the randomly generated 6 digit sequence is correct on the first try.\n",
    "This will require 1 second of waiting, after the sequence is input.\n",
    "$$T(1) = 1$$"
   ]
  },
  {
   "cell_type": "markdown",
   "id": "e533bf53",
   "metadata": {},
   "source": [
    "Now we look at the worst-case scenario, which is where the \\textbf{very last} randomly generated 6 digit sequence is correct.\n",
    "This will require waiting 1 second after each of the attempts, of which there are $10^{6}$.\n",
    "$$T(n) = 1 * 10^{6} = 10^{6}$$"
   ]
  },
  {
   "cell_type": "markdown",
   "id": "6287b357",
   "metadata": {},
   "source": [
    "If we assume the average case happens at approximately $n = 50000 = \\frac{10^{6}}{2}$, then we can say:\n",
    "$$T(n) = 1 * 50000 = 50000$$"
   ]
  },
  {
   "cell_type": "code",
   "execution_count": null,
   "id": "ddeceae4",
   "metadata": {},
   "outputs": [
    {
     "name": "stdout",
     "output_type": "stream",
     "text": [
      "Number of attempts to break code: 60952\n",
      "Number of attempts to break code: 1000000\n",
      "Number of attempts to break code: 75319\n",
      "Number of attempts to break code: 1000000\n",
      "Number of attempts to break code: 1000000\n",
      "Number of attempts to break code: 1000000\n"
     ]
    }
   ],
   "source": [
    "import random\n",
    "\n",
    "def benchmark_lock_engine() -> int:\n",
    "    counter = 0\n",
    "    for i in range(0,10**6,1):\n",
    "        sequence = ''\n",
    "        for _ in range(0,6,1):\n",
    "            sequence += str(random.randint(0,9))\n",
    "        counter += 1\n",
    "        if lock_engine(sequence) == 'Unlocked':\n",
    "            break;\n",
    "    print(f\"Number of attempts to break code: {counter}\")\n",
    "    return counter\n",
    "\n",
    "num_attempts = []\n",
    "for _ in range(0,10,1):\n",
    "    num_attempts.append(benchmark_lock_engine())\n",
    "    \n",
    "def avg(lst) -> float:\n",
    "    return sum(lst) / len(lst)\n",
    "\n",
    "print(f\"Min: {min(num_attempts)}\")\n",
    "print(f\"Max: {max(num_attempts)}\")\n",
    "print(f\"Avg: {avg(num_attempts)}\")"
   ]
  }
 ],
 "metadata": {
  "kernelspec": {
   "display_name": "Python 3 (ipykernel)",
   "language": "python",
   "name": "python3"
  },
  "language_info": {
   "codemirror_mode": {
    "name": "ipython",
    "version": 3
   },
   "file_extension": ".py",
   "mimetype": "text/x-python",
   "name": "python",
   "nbconvert_exporter": "python",
   "pygments_lexer": "ipython3",
   "version": "3.10.6"
  }
 },
 "nbformat": 4,
 "nbformat_minor": 5
}
